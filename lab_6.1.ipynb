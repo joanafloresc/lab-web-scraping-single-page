{
 "cells": [
  {
   "cell_type": "markdown",
   "id": "03d2f2cf",
   "metadata": {},
   "source": [
    "# Lab | Web Scraping Single Page"
   ]
  },
  {
   "cell_type": "markdown",
   "id": "6dd86f2b",
   "metadata": {},
   "source": [
    "Importing Libraries"
   ]
  },
  {
   "cell_type": "code",
   "execution_count": 1,
   "id": "4d04fef8",
   "metadata": {},
   "outputs": [],
   "source": [
    "import requests # to download html code\n",
    "from bs4 import BeautifulSoup # to navigate through the html code\n",
    "import pandas as pd\n",
    "import numpy as np\n",
    "import re"
   ]
  },
  {
   "cell_type": "markdown",
   "id": "9f24fbe7",
   "metadata": {},
   "source": [
    "Creating function."
   ]
  },
  {
   "cell_type": "code",
   "execution_count": 13,
   "id": "fc31bb81",
   "metadata": {},
   "outputs": [],
   "source": [
    "def scrape_hot100(url):\n",
    "    '''function to extract 100 songs and artist names from the Billboard Hot 100 to a DataFrame'''\n",
    "    \n",
    "    response = requests.get(url)\n",
    "    \n",
    "    if response.status_code != 200: print('Webpage was not retrieved')\n",
    "    \n",
    "    soup = BeautifulSoup(response.text, 'html.parser')\n",
    "    \n",
    "    artist = []\n",
    "    song = []\n",
    "    \n",
    "    for a,s in zip(soup.select('h3 + span'), soup.select('li h3')):\n",
    "        artist.append(a.get_text(strip=True))\n",
    "        song.append(s.get_text(strip=True)) \n",
    "        \n",
    "    hot100 = pd.DataFrame({'song':song, 'artist':artist}, index=range(1,101))\n",
    "    \n",
    "    return hot100"
   ]
  },
  {
   "cell_type": "markdown",
   "id": "4750fbbf",
   "metadata": {},
   "source": [
    "Storing url."
   ]
  },
  {
   "cell_type": "code",
   "execution_count": 14,
   "id": "2ddb7908",
   "metadata": {},
   "outputs": [],
   "source": [
    "url = 'https://www.billboard.com/charts/hot-100/'"
   ]
  },
  {
   "cell_type": "markdown",
   "id": "d7062155",
   "metadata": {},
   "source": [
    "Obtaining DataFrame."
   ]
  },
  {
   "cell_type": "code",
   "execution_count": 15,
   "id": "244edeec",
   "metadata": {},
   "outputs": [],
   "source": [
    "hot100 = scrape_hot100(url)"
   ]
  },
  {
   "cell_type": "code",
   "execution_count": 16,
   "id": "1934a422",
   "metadata": {},
   "outputs": [
    {
     "data": {
      "text/html": [
       "<div>\n",
       "<style scoped>\n",
       "    .dataframe tbody tr th:only-of-type {\n",
       "        vertical-align: middle;\n",
       "    }\n",
       "\n",
       "    .dataframe tbody tr th {\n",
       "        vertical-align: top;\n",
       "    }\n",
       "\n",
       "    .dataframe thead th {\n",
       "        text-align: right;\n",
       "    }\n",
       "</style>\n",
       "<table border=\"1\" class=\"dataframe\">\n",
       "  <thead>\n",
       "    <tr style=\"text-align: right;\">\n",
       "      <th></th>\n",
       "      <th>song</th>\n",
       "      <th>artist</th>\n",
       "    </tr>\n",
       "  </thead>\n",
       "  <tbody>\n",
       "    <tr>\n",
       "      <th>1</th>\n",
       "      <td>Flowers</td>\n",
       "      <td>Miley Cyrus</td>\n",
       "    </tr>\n",
       "    <tr>\n",
       "      <th>2</th>\n",
       "      <td>Kill Bill</td>\n",
       "      <td>SZA</td>\n",
       "    </tr>\n",
       "    <tr>\n",
       "      <th>3</th>\n",
       "      <td>Creepin'</td>\n",
       "      <td>Metro Boomin, The Weeknd &amp; 21 Savage</td>\n",
       "    </tr>\n",
       "    <tr>\n",
       "      <th>4</th>\n",
       "      <td>Anti-Hero</td>\n",
       "      <td>Taylor Swift</td>\n",
       "    </tr>\n",
       "    <tr>\n",
       "      <th>5</th>\n",
       "      <td>Unholy</td>\n",
       "      <td>Sam Smith &amp; Kim Petras</td>\n",
       "    </tr>\n",
       "    <tr>\n",
       "      <th>...</th>\n",
       "      <td>...</td>\n",
       "      <td>...</td>\n",
       "    </tr>\n",
       "    <tr>\n",
       "      <th>96</th>\n",
       "      <td>Hey Mor</td>\n",
       "      <td>Ozuna Featuring Feid</td>\n",
       "    </tr>\n",
       "    <tr>\n",
       "      <th>97</th>\n",
       "      <td>Gato de Noche</td>\n",
       "      <td>Nengo Flow &amp; Bad Bunny</td>\n",
       "    </tr>\n",
       "    <tr>\n",
       "      <th>98</th>\n",
       "      <td>Heart To Heart</td>\n",
       "      <td>Mac DeMarco</td>\n",
       "    </tr>\n",
       "    <tr>\n",
       "      <th>99</th>\n",
       "      <td>Never Gonna Not Dance Again</td>\n",
       "      <td>P!nk</td>\n",
       "    </tr>\n",
       "    <tr>\n",
       "      <th>100</th>\n",
       "      <td>Dancin' In The Country</td>\n",
       "      <td>Tyler Hubbard</td>\n",
       "    </tr>\n",
       "  </tbody>\n",
       "</table>\n",
       "<p>100 rows × 2 columns</p>\n",
       "</div>"
      ],
      "text/plain": [
       "                            song                                artist\n",
       "1                        Flowers                           Miley Cyrus\n",
       "2                      Kill Bill                                   SZA\n",
       "3                       Creepin'  Metro Boomin, The Weeknd & 21 Savage\n",
       "4                      Anti-Hero                          Taylor Swift\n",
       "5                         Unholy                Sam Smith & Kim Petras\n",
       "..                           ...                                   ...\n",
       "96                       Hey Mor                  Ozuna Featuring Feid\n",
       "97                 Gato de Noche                Nengo Flow & Bad Bunny\n",
       "98                Heart To Heart                           Mac DeMarco\n",
       "99   Never Gonna Not Dance Again                                  P!nk\n",
       "100       Dancin' In The Country                         Tyler Hubbard\n",
       "\n",
       "[100 rows x 2 columns]"
      ]
     },
     "execution_count": 16,
     "metadata": {},
     "output_type": "execute_result"
    }
   ],
   "source": [
    "hot100"
   ]
  },
  {
   "cell_type": "code",
   "execution_count": 17,
   "id": "70cb24db",
   "metadata": {},
   "outputs": [],
   "source": [
    "hot100.to_csv('hot100.csv')"
   ]
  },
  {
   "cell_type": "code",
   "execution_count": null,
   "id": "d3bafbda",
   "metadata": {},
   "outputs": [],
   "source": []
  }
 ],
 "metadata": {
  "kernelspec": {
   "display_name": "Python 3 (ipykernel)",
   "language": "python",
   "name": "python3"
  },
  "language_info": {
   "codemirror_mode": {
    "name": "ipython",
    "version": 3
   },
   "file_extension": ".py",
   "mimetype": "text/x-python",
   "name": "python",
   "nbconvert_exporter": "python",
   "pygments_lexer": "ipython3",
   "version": "3.9.13"
  }
 },
 "nbformat": 4,
 "nbformat_minor": 5
}
